{
 "cells": [
  {
   "cell_type": "code",
   "execution_count": 5,
   "id": "46d1f6e6-c254-42f0-99cf-7b10e3eb1e7a",
   "metadata": {},
   "outputs": [],
   "source": [
    "secret = 4"
   ]
  },
  {
   "cell_type": "code",
   "execution_count": 7,
   "id": "e971f568-fcc9-46de-8c20-eb5ec0ce814c",
   "metadata": {},
   "outputs": [],
   "source": [
    "guess = 6 \n"
   ]
  },
  {
   "cell_type": "code",
   "execution_count": 9,
   "id": "88bc4003-1605-4914-b99b-24d8786f2b98",
   "metadata": {},
   "outputs": [
    {
     "name": "stdout",
     "output_type": "stream",
     "text": [
      "too low\n"
     ]
    }
   ],
   "source": [
    "if guess> secret:\n",
    "    print(\"too high\")\n",
    "elif guess < secret:\n",
    "    print(\"too low\")\n",
    "elif guess == secret:\n",
    "    print(\"Just Right\")"
   ]
  },
  {
   "cell_type": "code",
   "execution_count": 11,
   "id": "880aaa84-a43b-47a2-b855-6a304ea203c9",
   "metadata": {},
   "outputs": [],
   "source": [
    "small = False\n",
    "green = True"
   ]
  },
  {
   "cell_type": "code",
   "execution_count": 19,
   "id": "4cc81fe1-6caa-425d-94a1-20b1573dc100",
   "metadata": {},
   "outputs": [
    {
     "name": "stdout",
     "output_type": "stream",
     "text": [
      "Watermelon\n"
     ]
    }
   ],
   "source": [
    "if small ==True and green == True:\n",
    "    print(\"Pea\")\n",
    "elif small ==False and green == True :\n",
    "    print(\"Watermelon\")\n",
    "elif small == True and green == False:\n",
    "    print(\"Cherry\")\n",
    "elif small == False and green == False:\n",
    "    print(\"Pumpkin\")"
   ]
  },
  {
   "cell_type": "code",
   "execution_count": 25,
   "id": "8cd037cd-c330-4bf3-9593-a91c7288a961",
   "metadata": {},
   "outputs": [
    {
     "name": "stdout",
     "output_type": "stream",
     "text": [
      "3\n",
      "2\n",
      "1\n",
      "0\n"
     ]
    }
   ],
   "source": [
    "for i in [3, 2, 1, 0]:\n",
    "    print(f\"{i}\")"
   ]
  },
  {
   "cell_type": "code",
   "execution_count": 33,
   "id": "7941e810-f263-4d5a-91dc-b05edec7ddf7",
   "metadata": {},
   "outputs": [
    {
     "name": "stdout",
     "output_type": "stream",
     "text": [
      "Too low\n",
      "Too low\n",
      "Too low\n",
      "Too low\n",
      "Too low\n",
      "Too low\n",
      "Found it!\n"
     ]
    }
   ],
   "source": [
    "guess_me = 7\n",
    "number = 1\n",
    "while True:\n",
    "    if number > guess_me:\n",
    "        print(\"Oops\")\n",
    "        break\n",
    "    elif number<guess_me:\n",
    "        print(\"Too low\")\n",
    "        number+=1\n",
    "    elif number==guess_me:\n",
    "        print(\"Found it!\")\n",
    "        break"
   ]
  },
  {
   "cell_type": "code",
   "execution_count": 37,
   "id": "78b14d11-59d1-4f7a-9caa-4bbd069febc1",
   "metadata": {},
   "outputs": [
    {
     "name": "stdout",
     "output_type": "stream",
     "text": [
      "too low\n",
      "too low\n",
      "too low\n",
      "too low\n",
      "too low\n",
      "Found it\n",
      "oops\n",
      "oops\n",
      "oops\n",
      "oops\n"
     ]
    }
   ],
   "source": [
    "guess_me =5\n",
    "for i in range(10):\n",
    "    if i== guess_me:\n",
    "        print(\"Found it\")\n",
    "    elif i>guess_me:\n",
    "        print(\"oops\")\n",
    "    elif i<guess_me:\n",
    "        print(\"too low\")\n",
    "        \n",
    "        "
   ]
  }
 ],
 "metadata": {
  "kernelspec": {
   "display_name": "Python 3 (ipykernel)",
   "language": "python",
   "name": "python3"
  },
  "language_info": {
   "codemirror_mode": {
    "name": "ipython",
    "version": 3
   },
   "file_extension": ".py",
   "mimetype": "text/x-python",
   "name": "python",
   "nbconvert_exporter": "python",
   "pygments_lexer": "ipython3",
   "version": "3.12.4"
  }
 },
 "nbformat": 4,
 "nbformat_minor": 5
}
